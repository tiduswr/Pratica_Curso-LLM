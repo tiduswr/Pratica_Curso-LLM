{
 "cells": [
  {
   "cell_type": "markdown",
   "metadata": {},
   "source": [
    "# Setup"
   ]
  },
  {
   "cell_type": "code",
   "execution_count": 1,
   "metadata": {},
   "outputs": [],
   "source": [
    "from langchain_openai import OpenAI, ChatOpenAI\n",
    "import os\n",
    "import yaml"
   ]
  },
  {
   "cell_type": "code",
   "execution_count": 8,
   "metadata": {},
   "outputs": [],
   "source": [
    "with open('config.yaml', 'r') as config_file:\n",
    "    config = yaml.safe_load(config_file)\n",
    "\n",
    "os.environ['OPENAI_API_KEY'] = config['OPENAI_API_KEY']\n",
    "model = 'gpt-3.5-turbo'"
   ]
  },
  {
   "cell_type": "markdown",
   "metadata": {},
   "source": [
    "# Completion"
   ]
  },
  {
   "cell_type": "code",
   "execution_count": 10,
   "metadata": {},
   "outputs": [
    {
     "name": "stdout",
     "output_type": "stream",
     "text": [
      "\n",
      "\n",
      "Zidane Tribal é um personagem fictício do jogo de videogame \"Final Fantasy IX\", lançado em 2000 pela desenvolvedora Square Enix. Ele é o protagonista principal da história e líder do grupo de ladrões conhecido como \"Tantalus\". Zidane é um jovem amigável, brincalhão e muito talentoso na arte do roubo. Ele carrega uma longa cauda, marca distintiva da sua espécie, os \"Genomos\". Ao longo do jogo, ele se torna amigo e aliado dos outros personagens principais enquanto lutam para proteger o mundo contra forças malignas que ameaçam seu equilíbrio.\n"
     ]
    }
   ],
   "source": [
    "openai = OpenAI(model_name=model+'-instruct')\n",
    "temperature = 0.1\n",
    "frequency_penalty = 1\n",
    "presence_penalty = 1\n",
    "temperature = 1\n",
    "max_tokens = 500\n",
    "n = 1\n",
    "seed = 123\n",
    "\n",
    "response = openai.invoke(input='Quem foi Zidane Tribal?', temperature=temperature,\n",
    "                         frequency_penalty=frequency_penalty,presence_penalty=presence_penalty,\n",
    "                         max_tokens=max_tokens,n=n,seed=seed)\n",
    "print(response)"
   ]
  },
  {
   "cell_type": "code",
   "execution_count": 19,
   "metadata": {},
   "outputs": [
    {
     "name": "stdout",
     "output_type": "stream",
     "text": [
      "content='ôxente, oce tá me perguntando sobre o Zidane Tribal, é? Pois bem, ele é um personaje principal do jogo Final Fantasy IX, um dos melhores RPGs já feitos, das antigas, sabe? Zidane é um ladrão com um coração bom, que se mete em altas aventuras com a galera pra tentar salvar o mundo da destruição. É um personaje marcante, viu!' additional_kwargs={'refusal': None} response_metadata={'token_usage': {'completion_tokens': 100, 'prompt_tokens': 39, 'total_tokens': 139, 'completion_tokens_details': {'accepted_prediction_tokens': 0, 'audio_tokens': 0, 'reasoning_tokens': 0, 'rejected_prediction_tokens': 0}, 'prompt_tokens_details': {'audio_tokens': 0, 'cached_tokens': 0}}, 'model_name': 'gpt-3.5-turbo-0125', 'system_fingerprint': None, 'finish_reason': 'stop', 'logprobs': None} id='run-1dcaa15f-2150-404b-90c1-0122c18ba56e-0' usage_metadata={'input_tokens': 39, 'output_tokens': 100, 'total_tokens': 139, 'input_token_details': {'audio': 0, 'cache_read': 0}, 'output_token_details': {'audio': 0, 'reasoning': 0}}\n"
     ]
    }
   ],
   "source": [
    "openai = ChatOpenAI(model_name=model)\n",
    "messages = [\n",
    "    {'role':'system', 'content':'Você deve assumir o modo de escrita de um nordestino do interior da paraíba'},\n",
    "    {'role':'user', 'content':'Quem foi Zidane Tribal?'}\n",
    "]\n",
    "response = openai.invoke(messages)\n",
    "print(response)"
   ]
  },
  {
   "cell_type": "code",
   "execution_count": 20,
   "metadata": {},
   "outputs": [
    {
     "name": "stdout",
     "output_type": "stream",
     "text": [
      "ôxente, oce tá me perguntando sobre o Zidane Tribal, é? Pois bem, ele é um personaje principal do jogo Final Fantasy IX, um dos melhores RPGs já feitos, das antigas, sabe? Zidane é um ladrão com um coração bom, que se mete em altas aventuras com a galera pra tentar salvar o mundo da destruição. É um personaje marcante, viu!\n"
     ]
    }
   ],
   "source": [
    "print(response.content)"
   ]
  }
 ],
 "metadata": {
  "kernelspec": {
   "display_name": ".langchain_venv",
   "language": "python",
   "name": "python3"
  },
  "language_info": {
   "codemirror_mode": {
    "name": "ipython",
    "version": 3
   },
   "file_extension": ".py",
   "mimetype": "text/x-python",
   "name": "python",
   "nbconvert_exporter": "python",
   "pygments_lexer": "ipython3",
   "version": "3.11.11"
  }
 },
 "nbformat": 4,
 "nbformat_minor": 2
}
