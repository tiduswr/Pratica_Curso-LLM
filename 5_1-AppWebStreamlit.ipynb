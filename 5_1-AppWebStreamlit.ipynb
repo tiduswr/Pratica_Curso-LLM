{
 "cells": [
  {
   "cell_type": "code",
   "execution_count": 8,
   "metadata": {},
   "outputs": [
    {
     "name": "stdout",
     "output_type": "stream",
     "text": [
      "\u001b[?25l\u001b[?7l\u001b[0m\u001b[36m\u001b[1m             /////////////\n",
      "         /////////////////////\n",
      "      ///////\u001b[37m\u001b[0m\u001b[1m*767\u001b[0m\u001b[36m\u001b[1m////////////////\n",
      "    //////\u001b[37m\u001b[0m\u001b[1m7676767676*\u001b[0m\u001b[36m\u001b[1m//////////////\n",
      "   /////\u001b[37m\u001b[0m\u001b[1m76767\u001b[0m\u001b[36m\u001b[1m//\u001b[37m\u001b[0m\u001b[1m7676767\u001b[0m\u001b[36m\u001b[1m//////////////\n",
      "  /////\u001b[37m\u001b[0m\u001b[1m767676\u001b[0m\u001b[36m\u001b[1m///\u001b[37m\u001b[0m\u001b[1m*76767\u001b[0m\u001b[36m\u001b[1m///////////////\n",
      " ///////\u001b[37m\u001b[0m\u001b[1m767676\u001b[0m\u001b[36m\u001b[1m///\u001b[37m\u001b[0m\u001b[1m76767\u001b[0m\u001b[36m\u001b[1m.///\u001b[37m\u001b[0m\u001b[1m7676*\u001b[0m\u001b[36m\u001b[1m///////\n",
      "/////////\u001b[37m\u001b[0m\u001b[1m767676\u001b[0m\u001b[36m\u001b[1m//\u001b[37m\u001b[0m\u001b[1m76767\u001b[0m\u001b[36m\u001b[1m///\u001b[37m\u001b[0m\u001b[1m767676\u001b[0m\u001b[36m\u001b[1m////////\n",
      "//////////\u001b[37m\u001b[0m\u001b[1m76767676767\u001b[0m\u001b[36m\u001b[1m////\u001b[37m\u001b[0m\u001b[1m76767\u001b[0m\u001b[36m\u001b[1m/////////\n",
      "///////////\u001b[37m\u001b[0m\u001b[1m76767676\u001b[0m\u001b[36m\u001b[1m//////\u001b[37m\u001b[0m\u001b[1m7676\u001b[0m\u001b[36m\u001b[1m//////////\n",
      "////////////,\u001b[37m\u001b[0m\u001b[1m7676\u001b[0m\u001b[36m\u001b[1m,///////\u001b[37m\u001b[0m\u001b[1m767\u001b[0m\u001b[36m\u001b[1m///////////\n",
      "/////////////*\u001b[37m\u001b[0m\u001b[1m7676\u001b[0m\u001b[36m\u001b[1m///////\u001b[37m\u001b[0m\u001b[1m76\u001b[0m\u001b[36m\u001b[1m////////////\n",
      "///////////////\u001b[37m\u001b[0m\u001b[1m7676\u001b[0m\u001b[36m\u001b[1m////////////////////\n",
      " ///////////////\u001b[37m\u001b[0m\u001b[1m7676\u001b[0m\u001b[36m\u001b[1m///\u001b[37m\u001b[0m\u001b[1m767\u001b[0m\u001b[36m\u001b[1m////////////\n",
      "  //////////////////////\u001b[37m\u001b[0m\u001b[1m'\u001b[0m\u001b[36m\u001b[1m////////////\n",
      "   //////\u001b[37m\u001b[0m\u001b[1m.7676767676767676767,\u001b[0m\u001b[36m\u001b[1m//////\n",
      "    /////\u001b[37m\u001b[0m\u001b[1m767676767676767676767\u001b[0m\u001b[36m\u001b[1m/////\n",
      "      ///////////////////////////\n",
      "         /////////////////////\n",
      "             /////////////\u001b[0m\n",
      "\u001b[20A\u001b[9999999D\u001b[42C\u001b[0m\u001b[1m\u001b[36m\u001b[1mtiduswr\u001b[0m@\u001b[36m\u001b[1mpop-os\u001b[0m \n",
      "\u001b[42C\u001b[0m--------------\u001b[0m \n",
      "\u001b[42C\u001b[0m\u001b[36m\u001b[1mOS\u001b[0m\u001b[0m:\u001b[0m Pop!_OS 22.04 LTS x86_64\u001b[0m \n",
      "\u001b[42C\u001b[0m\u001b[36m\u001b[1mHost\u001b[0m\u001b[0m:\u001b[0m MS-Terminator B550M 2.5G\u001b[0m \n",
      "\u001b[42C\u001b[0m\u001b[36m\u001b[1mKernel\u001b[0m\u001b[0m:\u001b[0m 6.9.3-76060903-generic\u001b[0m \n",
      "\u001b[42C\u001b[0m\u001b[36m\u001b[1mUptime\u001b[0m\u001b[0m:\u001b[0m 1 hour, 13 mins\u001b[0m \n",
      "\u001b[42C\u001b[0m\u001b[36m\u001b[1mPackages\u001b[0m\u001b[0m:\u001b[0m 2172 (dpkg), 16 (flatpak), 9 (snap)\u001b[0m \n",
      "\u001b[42C\u001b[0m\u001b[36m\u001b[1mShell\u001b[0m\u001b[0m:\u001b[0m fish 3.3.1\u001b[0m \n",
      "\u001b[42C\u001b[0m\u001b[36m\u001b[1mResolution\u001b[0m\u001b[0m:\u001b[0m 1920x1080\u001b[0m \n",
      "\u001b[42C\u001b[0m\u001b[36m\u001b[1mDE\u001b[0m\u001b[0m:\u001b[0m Unity\u001b[0m \n",
      "\u001b[42C\u001b[0m\u001b[36m\u001b[1mWM\u001b[0m\u001b[0m:\u001b[0m Mutter\u001b[0m \n",
      "\u001b[42C\u001b[0m\u001b[36m\u001b[1mWM Theme\u001b[0m\u001b[0m:\u001b[0m Adwaita\u001b[0m \n",
      "\u001b[42C\u001b[0m\u001b[36m\u001b[1mTheme\u001b[0m\u001b[0m:\u001b[0m Sweet-Dark-v40 [GTK2/3]\u001b[0m \n",
      "\u001b[42C\u001b[0m\u001b[36m\u001b[1mIcons\u001b[0m\u001b[0m:\u001b[0m Colloid-purple-dark [GTK2/3]\u001b[0m \n",
      "\u001b[42C\u001b[0m\u001b[36m\u001b[1mCPU\u001b[0m\u001b[0m:\u001b[0m AMD Ryzen 5 5600 (12) @ 3.500GHz\u001b[0m \n",
      "\u001b[42C\u001b[0m\u001b[36m\u001b[1mGPU\u001b[0m\u001b[0m:\u001b[0m NVIDIA 05:00.0 NVIDIA Corporation Device 2803\u001b[0m \n",
      "\u001b[42C\u001b[0m\u001b[36m\u001b[1mMemory\u001b[0m\u001b[0m:\u001b[0m 7051MiB / 32039MiB\u001b[0m \n",
      "\n",
      "\u001b[42C\u001b[30m\u001b[40m   \u001b[31m\u001b[41m   \u001b[32m\u001b[42m   \u001b[33m\u001b[43m   \u001b[34m\u001b[44m   \u001b[35m\u001b[45m   \u001b[36m\u001b[46m   \u001b[37m\u001b[47m   \u001b[m\n",
      "\u001b[42C\u001b[38;5;8m\u001b[48;5;8m   \u001b[38;5;9m\u001b[48;5;9m   \u001b[38;5;10m\u001b[48;5;10m   \u001b[38;5;11m\u001b[48;5;11m   \u001b[38;5;12m\u001b[48;5;12m   \u001b[38;5;13m\u001b[48;5;13m   \u001b[38;5;14m\u001b[48;5;14m   \u001b[38;5;15m\u001b[48;5;15m   \u001b[m\n",
      "\n",
      "\n",
      "\u001b[?25h\u001b[?7h\u001b[0m\n",
      "\u001b[34m\u001b[1m  You can now view your Streamlit app in your browser.\u001b[0m\n",
      "\u001b[0m\n",
      "\u001b[34m  Local URL: \u001b[0m\u001b[1mhttp://localhost:8501\u001b[0m\n",
      "\u001b[34m  Network URL: \u001b[0m\u001b[1mhttp://192.168.0.12:8501\u001b[0m\n",
      "\u001b[34m  External URL: \u001b[0m\u001b[1mhttp://177.37.236.245:8501\u001b[0m\n",
      "\u001b[0m\n",
      "^C\n",
      "\u001b[34m  Stopping...\u001b[0m\n"
     ]
    }
   ],
   "source": [
    "import os\n",
    "os.environ['STREAMLIT_SERVER_HEADLESS'] = 'true'\n",
    "\n",
    "!streamlit run 5_2-AppWebStreamlit.py"
   ]
  }
 ],
 "metadata": {
  "kernelspec": {
   "display_name": ".langchain_venv",
   "language": "python",
   "name": "python3"
  },
  "language_info": {
   "codemirror_mode": {
    "name": "ipython",
    "version": 3
   },
   "file_extension": ".py",
   "mimetype": "text/x-python",
   "name": "python",
   "nbconvert_exporter": "python",
   "pygments_lexer": "ipython3",
   "version": "3.11.11"
  }
 },
 "nbformat": 4,
 "nbformat_minor": 2
}
