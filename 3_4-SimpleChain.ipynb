{
 "cells": [
  {
   "cell_type": "markdown",
   "metadata": {},
   "source": [
    "# Setup"
   ]
  },
  {
   "cell_type": "code",
   "execution_count": 1,
   "metadata": {},
   "outputs": [],
   "source": [
    "from langchain_openai import OpenAI\n",
    "from langchain.prompts import PromptTemplate\n",
    "import yaml\n",
    "import os"
   ]
  },
  {
   "cell_type": "code",
   "execution_count": 5,
   "metadata": {},
   "outputs": [],
   "source": [
    "with open('config.yaml', 'r') as file:\n",
    "    config = yaml.safe_load(file)\n",
    "os.environ['OPENAI_API_KEY'] = config['OPENAI_API_KEY']\n",
    "openai = OpenAI(model_name='gpt-3.5-turbo-instruct', temperature=0, max_tokens=500)"
   ]
  },
  {
   "cell_type": "code",
   "execution_count": 6,
   "metadata": {},
   "outputs": [
    {
     "name": "stdout",
     "output_type": "stream",
     "text": [
      "Saída: \n",
      "\n",
      "1. Realidade Virtual e Aumentada: A tecnologia de realidade virtual e aumentada continuará a evoluir e se tornará cada vez mais acessível, permitindo que os jogadores mergulhem em mundos virtuais e interajam com eles de forma mais realista.\n",
      "\n",
      "2. Jogos em Nuvem: Com o avanço da tecnologia de computação em nuvem, os jogos também serão executados em servidores remotos, permitindo que os jogadores acessem e joguem jogos de alta qualidade em qualquer dispositivo com conexão à internet.\n",
      "\n",
      "3. Jogos Multiplataforma: Com a popularidade crescente dos jogos em nuvem, os jogos multiplataforma se tornarão mais comuns, permitindo que os jogadores joguem com amigos em diferentes dispositivos.\n",
      "\n",
      "4. Jogos Mobile: Os jogos para dispositivos móveis continuarão a crescer em popularidade, com gráficos e jogabilidade cada vez mais sofisticados, tornando os smartphones e tablets plataformas de jogos viáveis.\n",
      "\n",
      "5. Jogos de Realidade Aumentada para Dispositivos Móveis: Com o sucesso de jogos como Pokémon Go, é provável que mais jogos de realidade aumentada sejam desenvolvidos para dispositivos móveis, permitindo que os jogadores interajam com o mundo real enquanto jogam.\n",
      "\n",
      "6. Jogos Sociais: Os jogos sociais continuarão a ser uma tendência, com jogos que incentivam a interação entre amigos e comunidades online.\n",
      "\n",
      "7. Jogos de eSports: Os jogos competitivos continuarão a crescer em popularidade, com mais jogadores e espectadores participando de torneios e eventos de eSports.\n",
      "\n",
      "8. Jogos de Inteligência Artificial: Com o avanço da tecnologia de inteligência artificial, é provável que mais jogos usem essa tecnologia para criar personagens e desafios mais realistas e imprevisíveis.\n",
      "\n",
      "9. Jogos de Mundo Aberto: Os jogos de mundo aberto continuarão a ser uma tendência, com mundos virtuais cada vez maiores e mais detalhados para os jogadores explorarem.\n",
      "\n",
      "10. Jogos com Foco em História: Com a evolução da tecnologia de gráficos e narrativa,\n"
     ]
    }
   ],
   "source": [
    "prompt_template = PromptTemplate.from_template(\"Descreva as tendências para jogos em {ano}.\")\n",
    "runnable_sequence = prompt_template | openai\n",
    "output = runnable_sequence.invoke({\"ano\" : \"2024\"})\n",
    "print(\"Saída:\", output)"
   ]
  }
 ],
 "metadata": {
  "kernelspec": {
   "display_name": ".langchain_venv",
   "language": "python",
   "name": "python3"
  },
  "language_info": {
   "codemirror_mode": {
    "name": "ipython",
    "version": 3
   },
   "file_extension": ".py",
   "mimetype": "text/x-python",
   "name": "python",
   "nbconvert_exporter": "python",
   "pygments_lexer": "ipython3",
   "version": "3.11.11"
  }
 },
 "nbformat": 4,
 "nbformat_minor": 2
}
