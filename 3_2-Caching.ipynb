{
 "cells": [
  {
   "cell_type": "markdown",
   "metadata": {},
   "source": [
    "# Setup"
   ]
  },
  {
   "cell_type": "code",
   "execution_count": 75,
   "metadata": {},
   "outputs": [],
   "source": [
    "from langchain_openai import OpenAI\n",
    "from langchain.cache import InMemoryCache, SQLiteCache\n",
    "from langchain.globals import set_llm_cache\n",
    "import os\n",
    "import json\n",
    "import hashlib\n",
    "import yaml\n",
    "\n",
    "with open('config.yaml', 'r') as config_file:\n",
    "    config = yaml.safe_load(config_file)\n",
    "\n",
    "os.environ['OPENAI_API_KEY'] = config['OPENAI_API_KEY']"
   ]
  },
  {
   "cell_type": "markdown",
   "metadata": {},
   "source": [
    "# Memória"
   ]
  },
  {
   "cell_type": "code",
   "execution_count": 76,
   "metadata": {},
   "outputs": [],
   "source": [
    "openai = OpenAI(model_name='gpt-3.5-turbo-instruct')\n",
    "set_llm_cache(InMemoryCache())"
   ]
  },
  {
   "cell_type": "code",
   "execution_count": 77,
   "metadata": {},
   "outputs": [
    {
     "name": "stdout",
     "output_type": "stream",
     "text": [
      "Primeira resposta (API Chamada): \n",
      "\n",
      "O sentido da vida é algo subjetivo e pode variar de pessoa para pessoa. Para alguns, pode ser encontrar felicidade e realização pessoal, para outros pode ser ajudar os outros e deixar um legado positivo. O importante é descobrir o que faz você se sentir completo e feliz, e buscar isso da melhor forma possível.\n"
     ]
    }
   ],
   "source": [
    "prompt = 'Me diga em poucas palavras o sentido da vida'\n",
    "response1 = openai.invoke(prompt)\n",
    "print('Primeira resposta (API Chamada):', response1)"
   ]
  },
  {
   "cell_type": "code",
   "execution_count": 78,
   "metadata": {},
   "outputs": [
    {
     "name": "stdout",
     "output_type": "stream",
     "text": [
      "Segunda chamada (Cache): \n",
      "\n",
      "O sentido da vida é algo subjetivo e pode variar de pessoa para pessoa. Para alguns, pode ser encontrar felicidade e realização pessoal, para outros pode ser ajudar os outros e deixar um legado positivo. O importante é descobrir o que faz você se sentir completo e feliz, e buscar isso da melhor forma possível.\n"
     ]
    }
   ],
   "source": [
    "response2 = openai.invoke(prompt)\n",
    "print('Segunda chamada (Cache):', response2)"
   ]
  },
  {
   "cell_type": "markdown",
   "metadata": {},
   "source": [
    "# Banco de dados (SQLite)"
   ]
  },
  {
   "cell_type": "code",
   "execution_count": 79,
   "metadata": {},
   "outputs": [],
   "source": [
    "set_llm_cache(SQLiteCache(database_path='cache/openai_cache.db'))\n",
    "prompt = 'Me diga em poucas palavras quem foi Kratos'"
   ]
  },
  {
   "cell_type": "code",
   "execution_count": 80,
   "metadata": {},
   "outputs": [
    {
     "name": "stdout",
     "output_type": "stream",
     "text": [
      "Primeira resposta (API Chamada): \n",
      "\n",
      "Kratos é um personagem fictício dos jogos eletrônicos da série God of War, criada pela empresa Santa Monica Studio. Ele é um guerreiro espartano extremamente poderoso que busca vingança contra os deuses do Olimpo após ser traído por eles e perder sua família. Com habilidades sobre-humanas e uma personalidade impiedosa, Kratos é conhecido por sua brutalidade e determinação em alcançar seus objetivos.\n"
     ]
    }
   ],
   "source": [
    "response1 = openai.invoke(prompt)\n",
    "print('Primeira resposta (API Chamada):', response1)"
   ]
  },
  {
   "cell_type": "code",
   "execution_count": 81,
   "metadata": {},
   "outputs": [
    {
     "name": "stdout",
     "output_type": "stream",
     "text": [
      "Primeira resposta (Cache): \n",
      "\n",
      "Kratos é um personagem fictício dos jogos eletrônicos da série God of War, criada pela empresa Santa Monica Studio. Ele é um guerreiro espartano extremamente poderoso que busca vingança contra os deuses do Olimpo após ser traído por eles e perder sua família. Com habilidades sobre-humanas e uma personalidade impiedosa, Kratos é conhecido por sua brutalidade e determinação em alcançar seus objetivos.\n"
     ]
    }
   ],
   "source": [
    "response2 = openai.invoke(prompt)\n",
    "print('Segunda resposta (Cache):', response2)"
   ]
  },
  {
   "cell_type": "markdown",
   "metadata": {},
   "source": [
    "# Personalizado\n",
    "\n",
    "Classe personalizada com os métodos esperados pelo langchain para realizar o cachin, podendo ser usada outra abordagem além do JSON, que foi escolhida apenas para exemplificar."
   ]
  },
  {
   "cell_type": "code",
   "execution_count": 91,
   "metadata": {},
   "outputs": [],
   "source": [
    "class SimpleDiskCache:\n",
    "    def __init__(self, cache_dir='cache_dir'):\n",
    "        self.cache_dir = cache_dir\n",
    "        os.makedirs(self.cache_dir, exist_ok=True)\n",
    "    \n",
    "    def _get_cache_path(self, key):\n",
    "        hashed_key = hashlib.md5(key.encode()).hexdigest()\n",
    "        return os.path.join(self.cache_dir, f'{hashed_key}.json')\n",
    "    \n",
    "    def lookup(self, key, llm_string):\n",
    "        cache_path = self._get_cache_path(key)\n",
    "        if os.path.exists(cache_path):\n",
    "            with open(cache_path, 'r') as f:\n",
    "                return json.load(f)\n",
    "        return None\n",
    "    \n",
    "    def update(self, key, value, llm_string):\n",
    "        cache_path = self._get_cache_path(key)\n",
    "        with open(cache_path, 'w') as f:\n",
    "            json.dump(value, f)"
   ]
  },
  {
   "cell_type": "code",
   "execution_count": 92,
   "metadata": {},
   "outputs": [],
   "source": [
    "cache = SimpleDiskCache('cache')\n",
    "set_llm_cache(cache)\n",
    "prompt = 'Me diga em poucas palavras quem foi Sora de Kingdom Hearts'"
   ]
  },
  {
   "cell_type": "code",
   "execution_count": 97,
   "metadata": {},
   "outputs": [],
   "source": [
    "def invoke_with_cache(llm, prompt, cache):\n",
    "    cached_response = cache.lookup(prompt, '')\n",
    "    if cached_response:\n",
    "        print('Usando cache personalizado:\\n')\n",
    "        return cached_response\n",
    "    response = llm.invoke(prompt)\n",
    "    cache.update(prompt, response, '')\n",
    "    return response"
   ]
  },
  {
   "cell_type": "code",
   "execution_count": 100,
   "metadata": {},
   "outputs": [
    {
     "name": "stdout",
     "output_type": "stream",
     "text": [
      "Primeira resposta (API Chamada): \n",
      "\n",
      "Sora é o protagonista da série de jogos Kingdom Hearts. Ele é um jovem corajoso e amigável, que viaja pelos mundos da Disney e da Square Enix para proteger a paz e a luz do coração de todos. Ele possui uma Keyblade, uma arma mágica que utiliza para lutar contra as trevas e os Heartless. Sora é conhecido por sua determinação e lealdade aos seus amigos, e é o escolhido para ser o herói que salvará todos os mundos das forças do mal.\n"
     ]
    }
   ],
   "source": [
    "resp1 = invoke_with_cache(openai, prompt, cache)\n",
    "\n",
    "print('Primeira resposta (API Chamada):', resp1)"
   ]
  },
  {
   "cell_type": "code",
   "execution_count": 102,
   "metadata": {},
   "outputs": [
    {
     "name": "stdout",
     "output_type": "stream",
     "text": [
      "Usando cache personalizado:\n",
      "\n",
      "Segunda resposta (Cache): \n",
      "\n",
      "Sora é o protagonista da série de jogos Kingdom Hearts. Ele é um jovem corajoso e amigável, que viaja pelos mundos da Disney e da Square Enix para proteger a paz e a luz do coração de todos. Ele possui uma Keyblade, uma arma mágica que utiliza para lutar contra as trevas e os Heartless. Sora é conhecido por sua determinação e lealdade aos seus amigos, e é o escolhido para ser o herói que salvará todos os mundos das forças do mal.\n"
     ]
    }
   ],
   "source": [
    "resp2 = invoke_with_cache(openai, prompt, cache)\n",
    "\n",
    "print('Segunda resposta (Cache):', resp2)"
   ]
  }
 ],
 "metadata": {
  "kernelspec": {
   "display_name": ".langchain_venv",
   "language": "python",
   "name": "python3"
  },
  "language_info": {
   "codemirror_mode": {
    "name": "ipython",
    "version": 3
   },
   "file_extension": ".py",
   "mimetype": "text/x-python",
   "name": "python",
   "nbconvert_exporter": "python",
   "pygments_lexer": "ipython3",
   "version": "3.11.11"
  }
 },
 "nbformat": 4,
 "nbformat_minor": 2
}
