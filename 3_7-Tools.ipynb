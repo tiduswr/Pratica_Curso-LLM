{
 "cells": [
  {
   "cell_type": "markdown",
   "metadata": {},
   "source": [
    "# Setup"
   ]
  },
  {
   "cell_type": "code",
   "execution_count": 1,
   "metadata": {},
   "outputs": [],
   "source": [
    "from langchain_experimental.utilities import PythonREPL\n",
    "from langchain_community.tools import DuckDuckGoSearchRun, WikipediaQueryRun\n",
    "from langchain_community.utilities import WikipediaAPIWrapper"
   ]
  },
  {
   "cell_type": "markdown",
   "metadata": {},
   "source": [
    "### Executa código Python"
   ]
  },
  {
   "cell_type": "code",
   "execution_count": 5,
   "metadata": {},
   "outputs": [
    {
     "name": "stdout",
     "output_type": "stream",
     "text": [
      "Resultado da execução pelo PythonREPL:  7\n",
      "\n"
     ]
    }
   ],
   "source": [
    "pyrepl = PythonREPL()\n",
    "\n",
    "result = pyrepl.run(\n",
    "\"\"\"\n",
    "x = 5\n",
    "y = 2\n",
    "print(x+y)\n",
    "\"\"\"\n",
    ")\n",
    "\n",
    "print('Resultado da execução pelo PythonREPL: ', result)"
   ]
  },
  {
   "cell_type": "markdown",
   "metadata": {},
   "source": [
    "### Busca na Web"
   ]
  },
  {
   "cell_type": "code",
   "execution_count": 7,
   "metadata": {},
   "outputs": [
    {
     "name": "stdout",
     "output_type": "stream",
     "text": [
      "Resultado da busca pelo Duck Duck Go:  A República Cooperativa da Guiana situa-se ao norte da América do Sul, fazendo fronteira com a Venezuela, o Brasil e o Suriname. O país conta com um território de cerca de 215.000 km2 e uma população aproximada de 765.000 habitantes. A capital é a cidade de Georgetown. Clima. A Guiana tem um clima equatorial, com temperaturas quentes ... A Universidade da Guiana, fundada em 1963, é a principal instituição de ensino superior do país. A Guiana celebra várias ... Desde suas paisagens exuberantes até a diversidade étnica, há sempre algo novo para descobrir. A capital, Georgetown, é um verdadeiro tesouro de arquitetura colonial e vida vibrante. A culinária local, com ... Eles montaram um escritório de corretagem imobiliária especializado em vender e alugar imóveis de alto padrão na capital do país, Georgetown. ... brasileiro, que em 2022 foi de US$ 8.917 (R ... Na região está, inclusive, uma das mais imponentes cachoeiras da América do Sul: a Kaieteur Falls, com mais de 220 metros de altura.. Centro cultural Swami Vivekananda, Alto Comissariado da Índia, Georgetown, Guiana Imagem: iStock. A natureza deu lugar a uma interessante paisagem humana assim que o viajante chegou às cidades de Georgetown e New Amsterdam, ambas já fora de Essequibo. Quando a petroleira americana ExxonMobil se mudou para um prédio de sete andares na rua Duke Street, em Georgetown, capital da Guiana, em 2019, Christine Rudder, de 23 anos, pensou, assim como ...\n"
     ]
    }
   ],
   "source": [
    "ddg_search = DuckDuckGoSearchRun()\n",
    "\n",
    "query = \"Qual é a capital da Guiana em Português Brasileiro\"\n",
    "search_result = ddg_search.run(query)\n",
    "\n",
    "print('Resultado da busca pelo Duck Duck Go: ', search_result)"
   ]
  },
  {
   "cell_type": "markdown",
   "metadata": {},
   "source": [
    "### Consulta na Wikipedia"
   ]
  },
  {
   "cell_type": "code",
   "execution_count": 12,
   "metadata": {},
   "outputs": [
    {
     "name": "stdout",
     "output_type": "stream",
     "text": [
      "Resultado da busca na Wikipédia:  Page: Guiana\n",
      "Summary: A Guiana ( PRONÚNCIA); em inglês:  Guyana,  PRONÚNCIA) ou Guyana, oficialmente República Cooperativa da Guiana (em inglês: Cooperative Republic of Guyana pronunciado: [kɔ.ɔ.pɛ.raˈt̪iːvɛ reˈpublik ɔf ɡaɪˈɑːnə ]), é um país no norte da América do Sul. O país é limitado pelo Oceano Atlântico ao norte, Brasil ao sul e sudoeste, Venezuela ao oeste e Suriname ao leste. Com uma área de 214 970 km², a Guiana é o terceiro menor estado soberano da América do Sul continental, depois do Uruguai e do Suriname. Com uma população estimada para 2020 de 786 559 habitantes, o país tem a segunda menor população do subcontinente, atrás apenas do Suriname.\n",
      "A região conhecida como \"as Guianas\" consiste na grande massa de terra ao norte do Rio Amazonas e a leste do Rio Orinoco, conhecida como \"terra de muitas águas\". Os principais rios da Guiana incluem o Rio Essequibo, o Berbice e o Demerara. Originalmente habitada por muitos grupos indígenas, a Guiana foi colonizada pelos neerlandeses antes de ser transferida para o controle britânico no final do século XVIII. Foi governada como Guiana Britânica, com uma economia predominantemente de plantação até os anos 1950. Ela conquistou a independência em 1966 e tornou-se oficialmente uma república na Comunidade das Nações em 1970. O legado do domínio britânico se reflete na administração política do país e na população diversificada, que inclui grupos indianos, africanos, ameríndios e multirraciais.\n",
      "A Guiana é a única nação sul-americana em que o inglês é o idioma oficial. A maioria da população, no entanto, fala o crioulo guianense, uma língua crioula baseada no inglês, como primeira língua. A Guiana é considerada parte do Caribe anglófono. A CARICOM, da qual a Guiana é membro, está sediada na capital e na maior cidade do país, Georgetown. Em 2008, a Guiana aderiu à União de Nações Sul-Americanas como membro fundador. Em 2017, 41% da população da Guiana vivia abaixo do limiar da pobreza, com menos de 5,50 dólares por dia.\n",
      "\n",
      "\n",
      "\n",
      "Page: Guiana Francesa\n",
      "Summary: A Guiana Francesa (em francês:  Guyane française, oficialmente apenas Guyane) é um departamento ultramarino e região da França, na costa do Atlântico Norte da América do Sul, nas Guianas. Faz fronteira com o Brasil a leste e sul e com o Suriname a oeste. Desde 1981, quando Belize se tornou independente do Reino Unido, a Guiana Francesa tem sido o único território continental na América que ainda está sob a soberania de um país europeu. Com uma área de 83 534 km², a Guiana Francesa é a segunda maior região da França e a maior região ultraperiférica dentro da União Europeia. Tem uma densidade populacional muito baixa, com apenas 3,6 habitantes por km². Metade de seus 301 099 habitantes em 2022 viviam na área metropolitana de Caiena, sua capital. Desde dezembro de 2015, tanto a região como o departamento têm sido governados por uma assembleia única no âmbito de uma nova coletividade territorial única, a Coletividade Territorial da Guiana Francesa (em francês: Collectivité Territoriale de Guyane). Essa assembleia, a Assembleia da Guiana Francesa (em francês: Assemblée de Guyane), substituiu o antigo conselho regional e o conselho departamental, ambos desmembrados. A Assembleia da Guiana Francesa é responsável pelo governo regional e departamental.\n",
      "Antes do contato europeu, o território era originalmente habitado por nativos americanos, a maioria falantes do idioma arauaque, da família linguística arawakana. O povo foi identificado como Lokono. O primeiro estabelecimento francês está registrado em 1503, mas a França não estabeleceu uma presença durável até que os colonos fundaram Caiena em 1643. A Guiana foi desenvolvida como uma sociedade escravista, onde plantadores importavam africanos como trabalhadores escravizados em grandes açucareiros e outras plantações em número tal que aumentar a população. A escravidão foi abolida nas colônias na época da Revolução Francesa. A Guiana foi designada como um departamento francês em 1797. Mas depo\n"
     ]
    }
   ],
   "source": [
    "wikipedia = WikipediaQueryRun(api_wrapper=WikipediaAPIWrapper(lang='pt'))\n",
    "query = \"Guiana\"\n",
    "wikipedia_results = wikipedia.run(query)\n",
    "\n",
    "print('Resultado da busca na Wikipédia: ', wikipedia_results)"
   ]
  }
 ],
 "metadata": {
  "kernelspec": {
   "display_name": ".langchain_venv",
   "language": "python",
   "name": "python3"
  },
  "language_info": {
   "codemirror_mode": {
    "name": "ipython",
    "version": 3
   },
   "file_extension": ".py",
   "mimetype": "text/x-python",
   "name": "python",
   "nbconvert_exporter": "python",
   "pygments_lexer": "ipython3",
   "version": "3.11.11"
  }
 },
 "nbformat": 4,
 "nbformat_minor": 2
}
