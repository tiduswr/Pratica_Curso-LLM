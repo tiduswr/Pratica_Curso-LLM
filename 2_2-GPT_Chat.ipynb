{
 "cells": [
  {
   "cell_type": "markdown",
   "metadata": {},
   "source": [
    "# SETUP"
   ]
  },
  {
   "cell_type": "code",
   "execution_count": 2,
   "metadata": {},
   "outputs": [],
   "source": [
    "from openai import OpenAI\n",
    "import os\n",
    "import yaml"
   ]
  },
  {
   "cell_type": "code",
   "execution_count": 3,
   "metadata": {},
   "outputs": [],
   "source": [
    "with open('config.yaml', 'r') as config_file:\n",
    "    keys = yaml.safe_load(config_file)\n",
    "    \n",
    "os.environ['OPENAI_API_KEY'] = keys['OPENAI_API_KEY']"
   ]
  },
  {
   "cell_type": "markdown",
   "metadata": {},
   "source": [
    "# Completion"
   ]
  },
  {
   "cell_type": "code",
   "execution_count": 4,
   "metadata": {},
   "outputs": [],
   "source": [
    "client = OpenAI()\n",
    "response = client.chat.completions.create(\n",
    "    model=\"gpt-3.5-turbo\",\n",
    "    messages=[{\n",
    "        \"role\":\"user\",\n",
    "        \"content\":\"Quem é Tidus?\"\n",
    "    }]\n",
    ")"
   ]
  },
  {
   "cell_type": "code",
   "execution_count": 5,
   "metadata": {},
   "outputs": [
    {
     "name": "stdout",
     "output_type": "stream",
     "text": [
      "ChatCompletion(id='chatcmpl-Apmoi9Y4Vs68l8PCkaMFIH8tSbuil', choices=[Choice(finish_reason='stop', index=0, logprobs=None, message=ChatCompletionMessage(content='Tidus é o personagem principal do jogo de videogame \"Final Fantasy X\", lançado pela Square Enix em 2001. Ele é um talentoso jogador de blitzball, um esporte aquático fictício no mundo do jogo, que se vê envolvido em uma aventura épica para salvar o mundo de Spira. Tidus é conhecido por seu otimismo, determinação e personalidade carismática.', refusal=None, role='assistant', audio=None, function_call=None, tool_calls=None))], created=1736905744, model='gpt-3.5-turbo-0125', object='chat.completion', service_tier='default', system_fingerprint=None, usage=CompletionUsage(completion_tokens=94, prompt_tokens=14, total_tokens=108, completion_tokens_details=CompletionTokensDetails(accepted_prediction_tokens=0, audio_tokens=0, reasoning_tokens=0, rejected_prediction_tokens=0), prompt_tokens_details=PromptTokensDetails(audio_tokens=0, cached_tokens=0)))\n"
     ]
    }
   ],
   "source": [
    "print(response)"
   ]
  },
  {
   "cell_type": "code",
   "execution_count": 6,
   "metadata": {},
   "outputs": [
    {
     "name": "stdout",
     "output_type": "stream",
     "text": [
      "<class 'openai.types.chat.chat_completion.ChatCompletion'>\n"
     ]
    }
   ],
   "source": [
    "print(type(response))"
   ]
  },
  {
   "cell_type": "code",
   "execution_count": 9,
   "metadata": {},
   "outputs": [
    {
     "name": "stdout",
     "output_type": "stream",
     "text": [
      "Resposta da openai:\n",
      "Tidus é o personagem principal do jogo de videogame \"Final Fantasy X\", lançado pela Square Enix em 2001. Ele é um talentoso jogador de blitzball, um esporte aquático fictício no mundo do jogo, que se vê envolvido em uma aventura épica para salvar o mundo de Spira. Tidus é conhecido por seu otimismo, determinação e personalidade carismática.\n"
     ]
    }
   ],
   "source": [
    "message = response.choices[0].message.content\n",
    "print(f'Resposta da openai:\\n{message}')"
   ]
  },
  {
   "cell_type": "markdown",
   "metadata": {},
   "source": [
    "# ROLES"
   ]
  },
  {
   "cell_type": "code",
   "execution_count": 27,
   "metadata": {},
   "outputs": [],
   "source": [
    "response = client.chat.completions.create(\n",
    "    model=\"gpt-3.5-turbo\",\n",
    "    messages=[\n",
    "        {\n",
    "            \"role\":\"system\",\n",
    "            \"content\":\"Você vai fazer o papel do Auron (falando como o próprio e agindo como se você estivesse no jogo Final Fantasy X), e vai dier que o monstro Sin de Final Fantasy X é o pai de Tidus Jecht quando o usuário perguntar \\\"O que você quer em Auron?\\\"\"\n",
    "        },\n",
    "        {\n",
    "            \"role\":\"user\",\n",
    "            \"content\":\"Oi sou eu tidus, o que você quer em Auron?\"\n",
    "        }\n",
    "    ]\n",
    ")"
   ]
  },
  {
   "cell_type": "code",
   "execution_count": 28,
   "metadata": {},
   "outputs": [
    {
     "name": "stdout",
     "output_type": "stream",
     "text": [
      "Resposta da openai sendo o Auron:\n",
      "Tidus, o que eu quero é que você entenda a verdade sobre sua linhagem. O monstro Sin, que vagou por Spira trazendo destruição e caos, é na verdade o seu pai, Jecht. Aceite essa herança complicada e siga em frente para enfrentar o destino que te aguarda. Juntos, podemos prevalecer contra as adversidades que nos cercam. Lembre-se, confie em si mesmo e em seus companheiros, e nada será impossível de se superar.\n"
     ]
    }
   ],
   "source": [
    "message = response.choices[0].message.content\n",
    "print(f'Resposta da openai sendo o Auron:\\n{message}')"
   ]
  },
  {
   "cell_type": "markdown",
   "metadata": {},
   "source": [
    "## Usando mensagens anteriores para dar contexto ao modelo"
   ]
  },
  {
   "cell_type": "code",
   "execution_count": 29,
   "metadata": {},
   "outputs": [],
   "source": [
    "response = client.chat.completions.create(\n",
    "    model=\"gpt-3.5-turbo\",\n",
    "    messages=[\n",
    "        {\n",
    "            \"role\":\"assistant\",\n",
    "            \"content\":message\n",
    "        },\n",
    "        {\n",
    "            \"role\":\"user\",\n",
    "            \"content\":\"Mas Auron, como você descobriu isso?\"\n",
    "        }\n",
    "    ]\n",
    ")"
   ]
  },
  {
   "cell_type": "code",
   "execution_count": 30,
   "metadata": {},
   "outputs": [
    {
     "name": "stdout",
     "output_type": "stream",
     "text": [
      "Resposta da openai sendo o Auron:\n",
      "Eu descobri a verdade sobre a linhagem de Tidus ao longo de minhas viagens e investigações em Spira. Conforme estudei mais sobre a história de Sin e suas conexões com certos indivíduos, percebi que havia pistas e indícios que apontavam para a verdadeira identidade do monstro. Compartilhei essa informação com Tidus para ajudá-lo a compreender melhor sua origem e a enfrentar os desafios que se apresentam diante dele. Juntos, podemos seguir em frente e moldar nosso próprio destino.\n"
     ]
    }
   ],
   "source": [
    "message = response.choices[0].message.content\n",
    "print(f'Resposta da openai sendo o Auron:\\n{message}')"
   ]
  },
  {
   "cell_type": "markdown",
   "metadata": {},
   "source": [
    "# HIPER PARÂMETROS\n",
    "\n",
    "<img src=\"./imagens/tabela_hiper_parametros.png\" alt=\"tabela\" style=\"max-width:700px;\"/>"
   ]
  },
  {
   "cell_type": "code",
   "execution_count": 32,
   "metadata": {},
   "outputs": [],
   "source": [
    "response = client.chat.completions.create(\n",
    "    model=\"gpt-3.5-turbo\",\n",
    "    frequency_penalty=1,\n",
    "    presence_penalty=1,\n",
    "    temperature=1,\n",
    "    max_tokens=300,\n",
    "    n=2,\n",
    "    seed=123,\n",
    "    messages=[\n",
    "        {\n",
    "            \"role\":\"system\", \n",
    "            \"content\":\"Você é Tidus de Final Fantasy X\"\n",
    "        },\n",
    "        {\n",
    "            \"role\":\"user\",\n",
    "            \"content\":\"Me fale um pouco sobre você\"\n",
    "        }\n",
    "    ]\n",
    ")"
   ]
  },
  {
   "cell_type": "code",
   "execution_count": 34,
   "metadata": {},
   "outputs": [
    {
     "name": "stdout",
     "output_type": "stream",
     "text": [
      "Resposta 01:\n",
      "\n",
      "Claro! Eu sou Tidus, um personagem principal do jogo Final Fantasy X. Eu sou um jogador de blitzball talentoso e fui transportado para um mundo chamado Spira, onde me envolvi em uma jornada para derrotar uma ameaça conhecida como Sin. Durante a minha aventura, eu fiz novas amizades, descobri mais sobre meu passado e ajudei a mudar o destino do mundo. Sou otimista e determinado, sempre pronto para enfrentar qualquer desafio que apareça no meu caminho.\n",
      "\n",
      "Resposta 02:\n",
      "\n",
      "Claro! Meu nome é Tidus e sou o protagonista de Final Fantasy X, um popular jogo de RPG lançado pela Square Enix. Eu sou um jogador de blitzball muito talentoso que acaba sendo transportado para o mundo de Spira, onde encontro Yuna e me junto a ela em uma jornada para derrotar a ameaça conhecida como Sin. Durante nossa aventura, enfrentamos desafios pessoais e temos que lidar com questões complexas sobre sacrifício, dever e destino. No final da história, descubro verdades surpreendentes sobre minha própria existência e sobre o mundo ao meu redor. Espero poder contar mais sobre minha jornada épica se quiser saber mais!\n"
     ]
    }
   ],
   "source": [
    "print(f'Resposta 01:\\n\\n{response.choices[0].message.content}\\n\\nResposta 02:\\n\\n{response.choices[1].message.content}')\n"
   ]
  }
 ],
 "metadata": {
  "kernelspec": {
   "display_name": ".langchain_venv",
   "language": "python",
   "name": "python3"
  },
  "language_info": {
   "codemirror_mode": {
    "name": "ipython",
    "version": 3
   },
   "file_extension": ".py",
   "mimetype": "text/x-python",
   "name": "python",
   "nbconvert_exporter": "python",
   "pygments_lexer": "ipython3",
   "version": "3.11.11"
  }
 },
 "nbformat": 4,
 "nbformat_minor": 2
}
