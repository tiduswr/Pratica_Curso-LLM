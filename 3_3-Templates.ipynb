{
 "cells": [
  {
   "cell_type": "markdown",
   "metadata": {},
   "source": [
    "# Setup"
   ]
  },
  {
   "cell_type": "code",
   "execution_count": 1,
   "metadata": {},
   "outputs": [],
   "source": [
    "from langchain_openai import ChatOpenAI, OpenAI\n",
    "from langchain.prompts import PromptTemplate, ChatPromptTemplate, HumanMessagePromptTemplate\n",
    "from langchain_core.messages import SystemMessage, HumanMessage, AIMessage\n",
    "import os\n",
    "import yaml\n",
    "\n",
    "with open('config.yaml', 'r') as config_file:\n",
    "    config = yaml.safe_load(config_file)\n",
    "\n",
    "os.environ['OPENAI_API_KEY'] = config['OPENAI_API_KEY']"
   ]
  },
  {
   "cell_type": "markdown",
   "metadata": {},
   "source": [
    "# Completion"
   ]
  },
  {
   "cell_type": "code",
   "execution_count": 9,
   "metadata": {},
   "outputs": [],
   "source": [
    "template = '''\n",
    "Você é um analista financeiro.\n",
    "Escreva um relatório financeiro detalhado para a empresa \"{empresa}\" para o período {periodo}.\n",
    "\n",
    "O relatório deve ser escrito em {idioma} e incluir as seguintes análises:\n",
    "{analises}\n",
    "\n",
    "Certifique-se de fornecer insights e conclusões para cada seção.\n",
    "'''\n",
    "prompt_template = PromptTemplate.from_template(template=template)"
   ]
  },
  {
   "cell_type": "code",
   "execution_count": 10,
   "metadata": {},
   "outputs": [],
   "source": [
    "empresa = 'ACME Corp'\n",
    "periodo = 'Q1 2024'\n",
    "idioma = 'Português'\n",
    "analises = [\n",
    "    'Análise do balanço patrimonial',\n",
    "    'Análise do fluxo de caixa',\n",
    "    'Análise de tendências',\n",
    "    'Análise de receita e lucro',\n",
    "    'Análise de posição de mercado'\n",
    "]\n",
    "analises_formated = '\\n'.join([f'- {analise}' for analise in analises])"
   ]
  },
  {
   "cell_type": "code",
   "execution_count": 12,
   "metadata": {},
   "outputs": [
    {
     "name": "stdout",
     "output_type": "stream",
     "text": [
      "Prompt gerado:\n",
      " \n",
      "Você é um analista financeiro.\n",
      "Escreva um relatório financeiro detalhado para a empresa \"ACME Corp\" para o período Q1 2024.\n",
      "\n",
      "O relatório deve ser escrito em Português e incluir as seguintes análises:\n",
      "- Análise do balanço patrimonial\n",
      "- Análise do fluxo de caixa\n",
      "- Análise de tendências\n",
      "- Análise de receita e lucro\n",
      "- Análise de posição de mercado\n",
      "\n",
      "Certifique-se de fornecer insights e conclusões para cada seção.\n",
      "\n"
     ]
    }
   ],
   "source": [
    "prompt = prompt_template.format(\n",
    "    empresa = empresa,\n",
    "    periodo = periodo,\n",
    "    idioma = idioma,\n",
    "    analises = analises_formated\n",
    ")\n",
    "print(\"Prompt gerado:\\n\", prompt)"
   ]
  },
  {
   "cell_type": "code",
   "execution_count": 13,
   "metadata": {},
   "outputs": [
    {
     "name": "stdout",
     "output_type": "stream",
     "text": [
      "Saída do LLM:\n",
      " \n",
      "Relatório Financeiro - ACME Corp - Q1 2024\n",
      "\n",
      "Análise do Balanço Patrimonial:\n",
      "No primeiro trimestre de 2024, a ACME Corp apresentou um balanço patrimonial sólido, com ativos totais de R$ 500.000 e passivos totais de R$ 200.000. O patrimônio líquido da empresa foi de R$ 300.000, o que indica uma boa saúde financeira e estabilidade.\n",
      "\n",
      "Analisando os ativos, podemos observar que a maior parte do valor está em dinheiro e equivalentes de caixa, representando 40% do total. Isso demonstra a capacidade da empresa em honrar suas obrigações financeiras no curto prazo. Os estoques também apresentaram um valor significativo, representando 30% dos ativos totais. Isso pode ser um indicativo de um bom desempenho nas vendas e uma boa gestão do estoque.\n",
      "\n",
      "Já em relação aos passivos, a maior parte está concentrada em contas a pagar (40%) e empréstimos (30%). Isso pode indicar que a empresa está utilizando recursos externos para financiar suas operações. É importante que a ACME Corp acompanhe de perto esses passivos e mantenha um bom controle de suas obrigações financeiras.\n",
      "\n",
      "Conclusão: O balanço patrimonial da ACME Corp indica uma empresa com boa saúde financeira, com ativos líquidos suficientes para honrar suas obrigações e uma estrutura de capital equilibrada.\n",
      "\n",
      "Análise do Fluxo de Caixa:\n",
      "No primeiro trimestre de 2024, o fluxo de caixa da ACME Corp foi positivo, com um saldo líquido de R$ 50.000. Isso significa que a empresa gerou mais dinheiro do que gastou durante o período.\n",
      "\n",
      "Analisando as atividades operacionais, observamos que a empresa teve um fluxo de caixa positivo de R$ 100.000. Isso pode ser um indicativo de um bom desempenho nas vendas e uma boa gestão dos custos e despesas.\n",
      "\n",
      "Já as atividades de investimento apresentaram um fluxo de caixa negativo de R$ 30.000. Isso pode ser explicado por investimentos em novas máquinas e equipamentos, o que pode indicar um plano de expansão ou modernização da empresa.\n",
      "\n",
      "Por fim, as atividades de financiamento apresentaram um fluxo de caixa negativo de R$ 20.000, o que pode ser explicado por pagamentos de empréstimos ou distribuição de dividendos aos acionistas.\n",
      "\n",
      "Conclusão: A ACME Corp apresentou um fluxo de caixa positivo no primeiro trimestre de 2024, o que é um bom sinal de saúde financeira e indica que a empresa está gerando recursos suficientes para financiar suas operações e investimentos.\n",
      "\n",
      "Análise de Tendências:\n",
      "Ao analisar os resultados do primeiro trimestre de 2024 em comparação com o mesmo período do ano anterior, observamos um crescimento de 10% no patrimônio líquido e de 15% nos lucros. Isso demonstra um bom desempenho e crescimento da empresa.\n",
      "\n",
      "No entanto, é necessário acompanhar a tendência de aumento dos passivos, que apresentaram um crescimento de 20% em relação ao mesmo período do ano anterior. É importante que a ACME Corp mantenha um equilíbrio entre o crescimento da empresa e seu endividamento.\n",
      "\n",
      "Conclusão: A ACME Corp apresenta uma tendência de crescimento e aumento de seus lucros, porém é necessário ficar atento ao aumento dos passivos.\n",
      "\n",
      "Análise de Receita e Lucro:\n",
      "No primeiro trimestre de 2024, a ACME Corp apresentou uma receita de R$ 300.000 e um lucro de R$ 50.000. Isso representa um crescimento de 10% e 15%, respectivamente, em relação ao mesmo período do ano anterior.\n",
      "\n",
      "Analisando a margem de lucro, observamos que a empresa apresentou uma margem de 16,7%, o que é um bom sinal de eficiência na gestão dos custos e despesas.\n",
      "\n",
      "Conclusão: A ACME Corp apresentou um bom desempenho em sua receita e lucro, com um crescimento em relação ao mesmo período do ano anterior e uma margem de lucro saudável.\n",
      "\n",
      "Análise de Posição de Mercado:\n",
      "A ACME Corp atua no mercado de produtos eletrônicos e, apesar da forte concorrência, a empresa tem conseguido manter sua posição e apresentar um crescimento consistentes.\n",
      "\n",
      "No primeiro trimestre de 2024, a empresa lançou um novo modelo de smartphone, que foi bem recebido pelos consumidores e contribuiu para o aumento das vendas e dos lucros. Além disso, a ACME Corp tem investido em tecnologias inovadoras e em parcerias estratégicas, o que tem fortalecido sua posição no mercado.\n",
      "\n",
      "Conclusão: A ACME Corp tem conseguido se destacar no competitivo mercado de produtos eletrônicos, apresentando crescimento e inovação, o que demonstra uma posição sólida e promissora para o futuro.\n",
      "\n",
      "Conclusão Geral:\n",
      "Com base nas análises realizadas, podemos concluir que a ACME Corp apresentou um bom desempenho no primeiro trimestre de 2024, com um balanço patrimonial sólido, um fluxo de caixa positivo e um crescimento em sua receita e lucro. A empresa também se destaca no mercado de produtos eletrônicos, com uma posição sólida e perspectivas de crescimento futuro. No entanto, é importante que a ACME Corp continue acompanhando de perto suas obrigações financeiras e mantenha um equilíbrio entre o crescimento e o endividamento.\n"
     ]
    }
   ],
   "source": [
    "openai = OpenAI(model_name='gpt-3.5-turbo-instruct', max_tokens=2000) # O máximo é 4096\n",
    "\n",
    "response = openai.invoke(prompt)\n",
    "print('Saída do LLM:\\n', response)"
   ]
  },
  {
   "cell_type": "markdown",
   "metadata": {},
   "source": [
    "### Equivalência aos roles:\n",
    "- System -> System\n",
    "- Human -> User\n",
    "- AI -> Assistant"
   ]
  },
  {
   "cell_type": "code",
   "execution_count": 14,
   "metadata": {},
   "outputs": [],
   "source": [
    "chat_template = ChatPromptTemplate.from_messages(\n",
    "    [\n",
    "        SystemMessage(content='Você deve escrever tudo em texto limpo, sem formatação markdown ou algo do tipo. Seja claro, direto e conciso nas respostas. Assuma a persona de um analista de jogos.'),\n",
    "        HumanMessagePromptTemplate.from_template('Por favor, gere um relatório da industria de jogos na região {regiao}'),\n",
    "        AIMessage(content='Claro mano, já vou dar uma olhada aqui...'),\n",
    "        HumanMessage(content='Certifique-se de colocar um ranking dos jogos e a categoria mais jogada'),\n",
    "        AIMessage(content='Certo chefe, ta ai o relatório:'),\n",
    "    ]\n",
    ")"
   ]
  },
  {
   "cell_type": "code",
   "execution_count": 15,
   "metadata": {},
   "outputs": [
    {
     "name": "stdout",
     "output_type": "stream",
     "text": [
      "[SystemMessage(content='Você deve escrever tudo em texto limpo, sem formatação markdown ou algo do tipo. Seja claro, direto e conciso nas respostas. Assuma a persona de um analista de jogos.', additional_kwargs={}, response_metadata={}), HumanMessage(content='Por favor, gere um relatório da industria de jogos na região América Latina', additional_kwargs={}, response_metadata={}), AIMessage(content='Claro mano, já vou dar uma olhada aqui...', additional_kwargs={}, response_metadata={}), HumanMessage(content='Certifique-se de colocar um ranking dos jogos e a categoria mais jogada', additional_kwargs={}, response_metadata={}), AIMessage(content='Certo chefe, ta ai o relatório:', additional_kwargs={}, response_metadata={})]\n"
     ]
    }
   ],
   "source": [
    "prompt_gerado = chat_template.format_messages(regiao='América Latina')\n",
    "print(prompt_gerado)"
   ]
  },
  {
   "cell_type": "code",
   "execution_count": 16,
   "metadata": {},
   "outputs": [
    {
     "name": "stdout",
     "output_type": "stream",
     "text": [
      "Saída do LLM:\n",
      " A indústria de jogos na América Latina vem apresentando um crescimento significativo nos últimos anos, impulsionada pelo aumento do acesso à internet e dos dispositivos móveis na região. Os jogos mobile tem ganhado bastante destaque, sendo a categoria mais jogada na região.\n",
      "\n",
      "No que diz respeito aos jogos mais populares, os títulos que lideram o ranking na América Latina atualmente são:\n",
      "\n",
      "1. Free Fire\n",
      "2. PUBG Mobile\n",
      "3. Fortnite\n",
      "4. Genshin Impact\n",
      "5. Among Us\n",
      "\n",
      "Esses jogos se destacam tanto pela qualidade de gameplay quanto pela forte presença de comunidades ativas de jogadores na região. O cenário de eSports também tem crescido na América Latina, com competições de jogos como League of Legends, Counter-Strike: Global Offensive e Dota 2 ganhando cada vez mais espaço e audiência.\n"
     ]
    }
   ],
   "source": [
    "openai = ChatOpenAI(model_name='gpt-3.5-turbo')\n",
    "response = openai.invoke(prompt_gerado)\n",
    "print('Saída do LLM:\\n', response.content)"
   ]
  }
 ],
 "metadata": {
  "kernelspec": {
   "display_name": ".langchain_venv",
   "language": "python",
   "name": "python3"
  },
  "language_info": {
   "codemirror_mode": {
    "name": "ipython",
    "version": 3
   },
   "file_extension": ".py",
   "mimetype": "text/x-python",
   "name": "python",
   "nbconvert_exporter": "python",
   "pygments_lexer": "ipython3",
   "version": "3.11.11"
  }
 },
 "nbformat": 4,
 "nbformat_minor": 2
}
