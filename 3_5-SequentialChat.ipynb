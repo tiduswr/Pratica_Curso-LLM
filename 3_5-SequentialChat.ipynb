{
 "cells": [
  {
   "cell_type": "markdown",
   "metadata": {},
   "source": [
    "# Setup"
   ]
  },
  {
   "cell_type": "code",
   "execution_count": 1,
   "metadata": {},
   "outputs": [],
   "source": [
    "from langchain_openai import ChatOpenAI\n",
    "from langchain.prompts import PromptTemplate\n",
    "from langchain.document_loaders import TextLoader\n",
    "import yaml\n",
    "import os\n",
    "\n",
    "with open('config.yaml', 'r') as file:\n",
    "    config = yaml.safe_load(file)\n",
    "\n",
    "os.environ['OPENAI_API_KEY'] = config['OPENAI_API_KEY']\n",
    "\n",
    "openai = ChatOpenAI(model_name='gpt-4o', temperature=0)"
   ]
  },
  {
   "cell_type": "markdown",
   "metadata": {},
   "source": [
    "# Sequential Chain"
   ]
  },
  {
   "cell_type": "code",
   "execution_count": 2,
   "metadata": {},
   "outputs": [],
   "source": [
    "loader = TextLoader('base_conhecimento_britadeira.txt')\n",
    "documents = loader.load()\n",
    "\n",
    "historico_conversas = \"\"\"\n",
    "Cliente: Minha britadeira não liga.\n",
    "Chatbot: Você já verificou se a bateria está carregada e conectada corretamente?\n",
    "\"\"\"\n",
    "\n",
    "pergunta = \"Minha britadeira não liga. Eu já verifiquei e a bateria está carregada e conectada corretamente\""
   ]
  },
  {
   "cell_type": "code",
   "execution_count": 3,
   "metadata": {},
   "outputs": [],
   "source": [
    "inputs = {\n",
    "    'context' : '\\n'.join(doc.page_content for doc in documents),\n",
    "    'question': pergunta,\n",
    "    'historico': historico_conversas\n",
    "}"
   ]
  },
  {
   "cell_type": "code",
   "execution_count": 4,
   "metadata": {},
   "outputs": [],
   "source": [
    "prompt_base_conhecimento = PromptTemplate(\n",
    "    input_variables=[\"context\", \"question\"],\n",
    "    template=\"\"\"Use o seguinte contexto para responder à pergunta. \n",
    "    Responda apenas com base nas informações fornecidas.\n",
    "    Não forneceça instruções de procedimento já realizados.\n",
    "    Não utilize informações externas ao contexto:\n",
    "    Contexto: {context}\n",
    "    Pergunta: {question}\"\"\"\n",
    ")\n",
    "prompt_historico_conversas = PromptTemplate(\n",
    "    input_variables=[\"historico\", \"question\"],\n",
    "    template=\"\"\"Use o histórico de conversas para responder à pergunta. \n",
    "    Responda apenas com base nas informações fornecidas. \n",
    "    Não forneceça instruções de procedimento já realizados.\n",
    "    Não utilize informações externas ao contexto:\n",
    "    Histórico: {historico}\n",
    "    Pergunta: {question}\"\"\"\n",
    ")\n",
    "prompt_final = PromptTemplate(\n",
    "    input_variables=[\"resposta_base_conhecimento\", \"resposta_historico_conversas\"],\n",
    "    template=\"\"\"Combine as seguintes respostas para gerar uma resposta final,\n",
    "    mas não forneça instruções de procedimentos já realizados:\n",
    "    Resposta da base de conhecimento: {resposta_base_conhecimento}\n",
    "    Resposta do histórico de conversas: {resposta_historico_conversas}\"\"\"\n",
    ")"
   ]
  },
  {
   "cell_type": "code",
   "execution_count": 7,
   "metadata": {},
   "outputs": [],
   "source": [
    "chain_base_conhecimento = prompt_base_conhecimento | openai\n",
    "chain_historico_conversas = prompt_historico_conversas | openai\n",
    "chain_final = prompt_final | openai"
   ]
  },
  {
   "cell_type": "code",
   "execution_count": 9,
   "metadata": {},
   "outputs": [],
   "source": [
    "resultado_base_conhecimento = chain_base_conhecimento.invoke({'context':inputs['context'], 'question':inputs['question']})\n",
    "resultado_historico_conversas = chain_historico_conversas.invoke({'historico':inputs['historico'], 'question':inputs['question']})\n",
    "resultado_final = chain_final.invoke({\n",
    "    'resposta_base_conhecimento': resultado_base_conhecimento,\n",
    "    'resposta_historico_conversas': resultado_historico_conversas\n",
    "})"
   ]
  },
  {
   "cell_type": "code",
   "execution_count": 10,
   "metadata": {},
   "outputs": [
    {
     "name": "stdout",
     "output_type": "stream",
     "text": [
      "Aguarde 30 segundos após conectar a bateria para que o sistema inicialize. Verifique se o interruptor liga/desliga está na posição correta e se há algum fio solto. Se o problema persistir, contate o suporte técnico pelo 0800 555 5555.\n"
     ]
    }
   ],
   "source": [
    "print(resultado_final.content)"
   ]
  }
 ],
 "metadata": {
  "kernelspec": {
   "display_name": ".langchain_venv",
   "language": "python",
   "name": "python3"
  },
  "language_info": {
   "codemirror_mode": {
    "name": "ipython",
    "version": 3
   },
   "file_extension": ".py",
   "mimetype": "text/x-python",
   "name": "python",
   "nbconvert_exporter": "python",
   "pygments_lexer": "ipython3",
   "version": "3.11.11"
  }
 },
 "nbformat": 4,
 "nbformat_minor": 2
}
