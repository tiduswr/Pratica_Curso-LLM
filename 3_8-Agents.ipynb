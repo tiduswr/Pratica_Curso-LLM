{
 "cells": [
  {
   "cell_type": "markdown",
   "metadata": {},
   "source": [
    "# Setup"
   ]
  },
  {
   "cell_type": "code",
   "execution_count": 1,
   "metadata": {},
   "outputs": [],
   "source": [
    "from langchain_openai import OpenAI\n",
    "from langchain_experimental.agents.agent_toolkits import create_python_agent\n",
    "from langchain_community.tools import DuckDuckGoSearchRun\n",
    "from langchain.prompts import PromptTemplate\n",
    "import pandas as pd\n",
    "import yaml\n",
    "import os\n",
    "\n",
    "with open('config.yaml', 'r') as file:\n",
    "    config = yaml.safe_load(file)\n",
    "\n",
    "os.environ['OPENAI_API_KEY'] = config['OPENAI_API_KEY']\n",
    "\n",
    "openai = OpenAI(model_name='gpt-3.5-turbo-instruct', temperature=0)"
   ]
  },
  {
   "cell_type": "markdown",
   "metadata": {},
   "source": [
    "### Agente de busca e resumo\n",
    "\n",
    "Funcionalidade não confiável, é possível que o modelo entre em loop infinito de uso da ferramenta até chegar o momento que simplesmente ele dá erro."
   ]
  },
  {
   "cell_type": "code",
   "execution_count": 2,
   "metadata": {},
   "outputs": [],
   "source": [
    "agent_executor = create_python_agent(\n",
    "    llm=openai,\n",
    "    tool=DuckDuckGoSearchRun(),\n",
    "    verbose=True ## Mostra o passo a passo do modelo\n",
    ")"
   ]
  },
  {
   "cell_type": "code",
   "execution_count": 23,
   "metadata": {},
   "outputs": [
    {
     "name": "stdout",
     "output_type": "stream",
     "text": [
      "\n",
      "\n",
      "\u001b[1m> Entering new AgentExecutor chain...\u001b[0m\n",
      "\u001b[32;1m\u001b[1;3m Eu devo pesquisar sobre Tidus na web para encontrar informações relevantes.\n",
      "Action: duckduckgo_search\n",
      "Action Input: Tidus\u001b[0m\n",
      "Observation: \u001b[36;1m\u001b[1;3mTidus is a blitzball player from Zanarkand who travels with Yuna and her guardians to defeat Sin in Spira. He is the main character of Final Fantasy X and a supporting character in its sequel, Final Fantasy X-2. Final Fantasy X [a] is a 2001 role-playing video game developed and published by Square for PlayStation 2.The tenth main installment in the Final Fantasy series, it is the first game in the series to feature fully three-dimensional areas (though some areas were still pre-rendered), and voice acting. Final Fantasy X replaces the Active Time Battle (ATB) system with the \"Conditional Turn-Based ... Throughout the events of FFX, we learn that protagonist Tidus was a Blitzball star who lived — and died — in the city of Zanarkand about 1,000 years prior to the events of the main game.Some ... A memorable scene featuring Tidus and Yuna laughing their asses off.Japanese voiceover with English subtitles. Gameplay excerpts taken from my own playthroug... About Press Copyright Contact us Creators Advertise Developers Terms Privacy Policy & Safety How YouTube works Test new features NFL Sunday Ticket Press Copyright ...\u001b[0m\n",
      "Thought:\u001b[32;1m\u001b[1;3m Agora eu devo ler o resumo abrangente sobre Tidus.\n",
      "Action: duckduckgo_search\n",
      "Action Input: Tidus\u001b[0m\n",
      "Observation: \u001b[36;1m\u001b[1;3mTidus is a blitzball player from Zanarkand who travels with Yuna and her guardians to defeat Sin in Spira. He is the main character of Final Fantasy X and a supporting character in its sequel, Final Fantasy X-2. Final Fantasy X [a] is a 2001 role-playing video game developed and published by Square for PlayStation 2.The tenth main installment in the Final Fantasy series, it is the first game in the series to feature fully three-dimensional areas (though some areas were still pre-rendered), and voice acting. Final Fantasy X replaces the Active Time Battle (ATB) system with the \"Conditional Turn-Based ... Throughout the events of FFX, we learn that protagonist Tidus was a Blitzball star who lived — and died — in the city of Zanarkand about 1,000 years prior to the events of the main game.Some ... The crux of FFX's story revolves around Tidus' culture shock in learning about Spira, and how he gets involved in a quest to save the world. A massive aquatic monster named Sin regularly ... Theories on Tidus' Fate. One of the most compelling aspects of the post-credits scene is its ambiguity, leaving fans to ponder what Tidus' reappearance really signifies. Throughout the comments, various interpretations were shared. User Kaioken0591 suggested, \"I think it'd be best if you played X-2 for the answer to your question.\"\u001b[0m\n",
      "Thought:\u001b[32;1m\u001b[1;3m Eu agora sei que Tidus é um personagem do jogo Final Fantasy X e que ele é um jogador de blitzball de Zanarkand que viaja com Yuna e seus guardiões para derrotar Sin em Spira.\n",
      "Final Answer: Tidus é um personagem do jogo Final Fantasy X e um jogador de blitzball de Zanarkand que viaja com Yuna e seus guardiões para derrotar Sin em Spira. Ele é o protagonista do jogo e um personagem secundário em sua sequência, Final Fantasy X-2.\u001b[0m\n",
      "\n",
      "\u001b[1m> Finished chain.\u001b[0m\n"
     ]
    }
   ],
   "source": [
    "prompt_template = PromptTemplate(\n",
    "    input_variables=['query'],\n",
    "    template=\"\"\"\n",
    "        Pesquise na web sobre {query} e faça um resumo abrangente sobre o assunto. A resposta final precisa ser em português do brasil.\n",
    "    \"\"\"\n",
    ")\n",
    "\n",
    "query = \"Tidus\"\n",
    "prompt = prompt_template.format(query=query)\n",
    "response = agent_executor.invoke(prompt)"
   ]
  },
  {
   "cell_type": "code",
   "execution_count": 24,
   "metadata": {},
   "outputs": [
    {
     "name": "stdout",
     "output_type": "stream",
     "text": [
      "Entrada do agente:  \n",
      "        Pesquise na web sobre Tidus e faça um resumo abrangente sobre o assunto. A resposta final precisa ser em português do brasil.\n",
      "    \n"
     ]
    }
   ],
   "source": [
    "print('Entrada do agente: ', response['input'])"
   ]
  },
  {
   "cell_type": "code",
   "execution_count": 25,
   "metadata": {},
   "outputs": [
    {
     "name": "stdout",
     "output_type": "stream",
     "text": [
      "Resposta do agente:  Tidus é um personagem do jogo Final Fantasy X e um jogador de blitzball de Zanarkand que viaja com Yuna e seus guardiões para derrotar Sin em Spira. Ele é o protagonista do jogo e um personagem secundário em sua sequência, Final Fantasy X-2.\n"
     ]
    }
   ],
   "source": [
    "print('Resposta do agente: ', response['output'])"
   ]
  }
 ],
 "metadata": {
  "kernelspec": {
   "display_name": ".langchain_venv",
   "language": "python",
   "name": "python3"
  },
  "language_info": {
   "codemirror_mode": {
    "name": "ipython",
    "version": 3
   },
   "file_extension": ".py",
   "mimetype": "text/x-python",
   "name": "python",
   "nbconvert_exporter": "python",
   "pygments_lexer": "ipython3",
   "version": "3.11.11"
  }
 },
 "nbformat": 4,
 "nbformat_minor": 2
}
