{
 "cells": [
  {
   "cell_type": "markdown",
   "metadata": {},
   "source": [
    "# Setup"
   ]
  },
  {
   "cell_type": "code",
   "execution_count": 2,
   "metadata": {},
   "outputs": [],
   "source": [
    "from langchain_openai import OpenAI\n",
    "from langchain_experimental.agents.agent_toolkits import create_python_agent\n",
    "from langchain_community.tools import DuckDuckGoSearchRun\n",
    "from langchain.prompts import PromptTemplate\n",
    "import pandas as pd\n",
    "import yaml\n",
    "import os\n",
    "\n",
    "with open('config.yaml', 'r') as file:\n",
    "    config = yaml.safe_load(file)\n",
    "\n",
    "os.environ['OPENAI_API_KEY'] = config['OPENAI_API_KEY']\n",
    "\n",
    "openai = OpenAI(model_name='gpt-3.5-turbo-instruct', temperature=0)"
   ]
  },
  {
   "cell_type": "markdown",
   "metadata": {},
   "source": [
    "### Agente de busca e resumo\n",
    "\n",
    "Funcionalidade não confiável, é possível que o modelo entre em loop infinito de uso da ferramenta até chegar o momento que simplesmente ele dá erro."
   ]
  },
  {
   "cell_type": "code",
   "execution_count": 3,
   "metadata": {},
   "outputs": [],
   "source": [
    "agent_executor = create_python_agent(\n",
    "    llm=openai,\n",
    "    tool=DuckDuckGoSearchRun(),\n",
    "    verbose=True ## Mostra o passo a passo do modelo\n",
    ")"
   ]
  },
  {
   "cell_type": "code",
   "execution_count": 10,
   "metadata": {},
   "outputs": [
    {
     "name": "stdout",
     "output_type": "stream",
     "text": [
      "\n",
      "\n",
      "\u001b[1m> Entering new AgentExecutor chain...\u001b[0m\n",
      "\u001b[32;1m\u001b[1;3m\n",
      "I should use the duckduckgo_search action to search for information about Tidus.\n",
      "Action: duckduckgo_search\n",
      "Action Input: Tidus\u001b[0m\n",
      "Observation: \u001b[36;1m\u001b[1;3mTidus is a blitzball player from Zanarkand who travels with Yuna and her guardians to defeat Sin in Spira. He is the main character of Final Fantasy X and a supporting character in its sequel, Final Fantasy X-2. About Press Copyright Contact us Creators Advertise Developers Terms Privacy Policy & Safety How YouTube works Test new features NFL Sunday Ticket Press Copyright ... A memorable scene featuring Tidus and Yuna laughing their asses off.Japanese voiceover with English subtitles. Gameplay excerpts taken from my own playthroug... Throughout the events of FFX, we learn that protagonist Tidus was a Blitzball star who lived — and died — in the city of Zanarkand about 1,000 years prior to the events of the main game.Some ... Tidus is far more than just a playable character—he's become a cultural touchstone within the Final Fantasy community, inspiring memes and discussions years after the game's release. As discussions about Tidus highlight both humor and perception, it's evident that his legacy is marked by a colorful blend of experiences for players. ...\u001b[0m\n",
      "Thought:\u001b[32;1m\u001b[1;3m\n",
      "I now know the final answer.\n",
      "Final Answer: Tidus é um jogador de blitzball de Zanarkand que viaja com Yuna e seus guardiões para derrotar Sin em Spira. Ele é o personagem principal de Final Fantasy X e um personagem de apoio em sua sequência, Final Fantasy X-2. Ao longo dos eventos de FFX, descobrimos que o protagonista Tidus era uma estrela do Blitzball que viveu - e morreu - na cidade de Zanarkand cerca de 1.000 anos antes dos eventos do jogo principal. Tidus é muito mais do que apenas um personagem jogável - ele se tornou um marco cultural dentro da comunidade Final Fantasy, inspirando memes e discussões anos após o lançamento do jogo. Como as discussões sobre Tidus destacam tanto o humor quanto a percepção, é evidente que seu legado é marcado por uma mistura colorida de experiências para os jogadores.\u001b[0m\n",
      "\n",
      "\u001b[1m> Finished chain.\u001b[0m\n"
     ]
    }
   ],
   "source": [
    "prompt_template = PromptTemplate(\n",
    "    input_variables=['query'],\n",
    "    template=\"\"\"\n",
    "        Responda a pergunta abaixo da melhor forma que você puder:\n",
    "\n",
    "        Ações disponiveis: duckduckgo_search\n",
    "        Pergunta: Pesquise na web sobre {query} e faça um resumo abrangente sobre o assunto.\n",
    "        Observações: A resposta final precisa ser em português do brasil.\n",
    "    \"\"\"\n",
    ")\n",
    "\n",
    "query = \"Tidus\"\n",
    "prompt = prompt_template.format(query=query)\n",
    "response = agent_executor.invoke(prompt)"
   ]
  },
  {
   "cell_type": "code",
   "execution_count": 11,
   "metadata": {},
   "outputs": [
    {
     "name": "stdout",
     "output_type": "stream",
     "text": [
      "Entrada do agente:  \n",
      "        Responda a pergunta abaixo da melhor forma que você puder:\n",
      "\n",
      "        Ações disponiveis: duckduckgo_search\n",
      "        Pergunta: Pesquise na web sobre Tidus e faça um resumo abrangente sobre o assunto.\n",
      "        Observações: A resposta final precisa ser em português do brasil.\n",
      "    \n"
     ]
    }
   ],
   "source": [
    "print('Entrada do agente: ', response['input'])"
   ]
  },
  {
   "cell_type": "code",
   "execution_count": 12,
   "metadata": {},
   "outputs": [
    {
     "name": "stdout",
     "output_type": "stream",
     "text": [
      "Resposta do agente:  Tidus é um jogador de blitzball de Zanarkand que viaja com Yuna e seus guardiões para derrotar Sin em Spira. Ele é o personagem principal de Final Fantasy X e um personagem de apoio em sua sequência, Final Fantasy X-2. Ao longo dos eventos de FFX, descobrimos que o protagonista Tidus era uma estrela do Blitzball que viveu - e morreu - na cidade de Zanarkand cerca de 1.000 anos antes dos eventos do jogo principal. Tidus é muito mais do que apenas um personagem jogável - ele se tornou um marco cultural dentro da comunidade Final Fantasy, inspirando memes e discussões anos após o lançamento do jogo. Como as discussões sobre Tidus destacam tanto o humor quanto a percepção, é evidente que seu legado é marcado por uma mistura colorida de experiências para os jogadores.\n"
     ]
    }
   ],
   "source": [
    "print('Resposta do agente: ', response['output'])"
   ]
  }
 ],
 "metadata": {
  "kernelspec": {
   "display_name": ".langchain_venv",
   "language": "python",
   "name": "python3"
  },
  "language_info": {
   "codemirror_mode": {
    "name": "ipython",
    "version": 3
   },
   "file_extension": ".py",
   "mimetype": "text/x-python",
   "name": "python",
   "nbconvert_exporter": "python",
   "pygments_lexer": "ipython3",
   "version": "3.11.11"
  }
 },
 "nbformat": 4,
 "nbformat_minor": 2
}
